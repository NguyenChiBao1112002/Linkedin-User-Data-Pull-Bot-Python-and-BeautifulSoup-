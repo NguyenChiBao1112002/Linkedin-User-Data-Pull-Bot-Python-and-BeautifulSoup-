{
 "cells": [
  {
   "cell_type": "code",
   "execution_count": null,
   "metadata": {},
   "outputs": [],
   "source": [
    "from selenium import webdriver\n",
    "from selenium.webdriver.common.keys import Keys\n",
    "from selenium.webdriver.common.by import By\n",
    "from time import sleep\n",
    "from bs4 import BeautifulSoup\n",
    "import csv\n",
    "\n",
    "print('-Finish importing package')"
   ]
  },
  {
   "cell_type": "code",
   "execution_count": null,
   "metadata": {},
   "outputs": [],
   "source": [
    "#Step 1: Login to Linkedin\n",
    "\n",
    "#Open Chrome and login Linked login site\n",
    "driver = webdriver.Chrome()\n",
    "driver.maximize_window()\n",
    "url = 'https://www.linkedin.com/login'\n",
    "driver.get(url)\n",
    "print('-Fishish initializing a driver')\n",
    "sleep(2)"
   ]
  },
  {
   "cell_type": "code",
   "execution_count": null,
   "metadata": {},
   "outputs": [],
   "source": [
    "#Import username and password\n",
    "credential = open('login_credential.txt')\n",
    "line = credential.readlines()\n",
    "username = line[0]\n",
    "password = line[1]\n",
    "print('-Finish importing the login credential')\n",
    "\n",
    "#Key in username\n",
    "email_field = driver.find_element(By.ID, 'username')\n",
    "email_field.send_keys(username)\n",
    "print('-Finish keying in email')\n",
    "sleep(3)\n",
    "\n",
    "#Key in password\n",
    "password_field = driver.find_element(By.NAME, 'session_password')\n",
    "password_field.send_keys(password)\n",
    "print('-Finish keying in password')\n",
    "sleep(2)\n",
    "\n",
    "#Click login button\n",
    "login_field = driver.find_element(By.XPATH, '//*[@id=\"organic-div\"]/form/div[3]/button')\n",
    "#Lấy xPath = chọn trỏ phải phần tử html-> chọn copy-> copy xPath\n",
    "login_field.click()\n",
    "print('-Finish logging in')\n",
    "sleep(3)"
   ]
  },
  {
   "cell_type": "code",
   "execution_count": null,
   "metadata": {},
   "outputs": [],
   "source": [
    "#Step 2: Search for the profile we want to crawl\n",
    "\n",
    "#Locate the search bar element\n",
    "search_field = driver.find_element(By.CLASS_NAME,'search-global-typeahead__input')\n",
    "#Input the search query to the search bar\n",
    "search_query = input('What profile do you want to scrape?')\n",
    "search_field.send_keys(search_query)\n",
    "\n",
    "#Search\n",
    "search_field.send_keys(Keys.RETURN)\n",
    "sleep(5)\n",
    "print('-Finish searching ...')\n",
    "\n",
    "tab_people = driver.find_element(By.XPATH, '//*[@id=\"search-reusables__filters-bar\"]/ul/li[2]/button')\n",
    "tab_people.send_keys(Keys.RETURN)"
   ]
  },
  {
   "cell_type": "code",
   "execution_count": 50,
   "metadata": {},
   "outputs": [
    {
     "name": "stdout",
     "output_type": "stream",
     "text": [
      "[]\n",
      "- Finish Task 3: Scrape the URLs\n"
     ]
    }
   ],
   "source": [
    "# Task 3: Scrape the URLs of the profiles\n",
    "\n",
    "# Task 3.1: Write a function to extract the URLs of one page\n",
    "def GetURL():\n",
    "    page_source = BeautifulSoup(driver.page_source)\n",
    "    profiles = page_source.find_all('a', class_ = 'search-result__result-link ember-view')\n",
    "    all_profile_URL = []\n",
    "    for profile in profiles:\n",
    "        profile_ID = profile.get('href')\n",
    "        profile_URL = \"https://www.linkedin.com\" + profile_ID\n",
    "        if profile_URL not in all_profile_URL:\n",
    "            all_profile_URL.append(profile_URL)\n",
    "    return all_profile_URL\n",
    "\n",
    "# Task 3.2: Navigate through many page, and extract the profile URLs of each page\n",
    "\n",
    "input_page = int(input('How many pages you want to scrape: '))\n",
    "URLs_all_page = []\n",
    "index = 1\n",
    "for page in range(input_page):\n",
    "    URLs_one_page = GetURL()\n",
    "    sleep(2)\n",
    "    driver.execute_script('window.scrollTo(0, document.body.scrollHeight);') #scroll to the end of the page\n",
    "    sleep(3)\n",
    "    #next_button = driver.find_element(By.CLASS_NAME,\"artdeco-pagination__button--next\")\n",
    "    index+=1\n",
    "    next_button = driver.find_element(By.XPATH,f'//button[@aria-label=\"Page {index}\"]')\n",
    "    driver.execute_script(\"arguments[0].click();\", next_button)\n",
    "    URLs_all_page = URLs_all_page + URLs_one_page\n",
    "    sleep(2)\n",
    "print(URLs_all_page)\n",
    "print('- Finish Task 3: Scrape the URLs')\n"
   ]
  },
  {
   "cell_type": "code",
   "execution_count": 52,
   "metadata": {},
   "outputs": [
    {
     "name": "stdout",
     "output_type": "stream",
     "text": [
      "Mission Completed!\n"
     ]
    }
   ],
   "source": [
    "# Task 4: Scrape the data of 1 Linkedin profile, and write the data to a .CSV file\n",
    "with open('output.csv', 'w',  newline = '') as file_output:\n",
    "    headers = ['Name', 'Job Title', 'Location', 'URL']\n",
    "    writer = csv.DictWriter(file_output, delimiter=',', lineterminator='\\n',fieldnames=headers)\n",
    "    writer.writeheader()\n",
    "    for linkedin_URL in URLs_all_page:\n",
    "        driver.get(linkedin_URL)\n",
    "        print('- Accessing profile: ', linkedin_URL)\n",
    "        sleep(3)\n",
    "        page_source = BeautifulSoup(driver.page_source, \"html.parser\")\n",
    "        info_div = page_source.find('div',{'class':'flex-1 mr5'})\n",
    "        try:\n",
    "            name = info_div.find('li', class_='inline t-24 t-black t-normal break-words').get_text().strip() #Remove unnecessary characters \n",
    "            print('--- Profile name is: ', name)\n",
    "            location = info_div.find('li', class_='t-16 t-black t-normal inline-block').get_text().strip() #Remove unnecessary characters \n",
    "            print('--- Profile location is: ', location)\n",
    "            title = info_div.find('h2', class_='mt1 t-18 t-black t-normal break-words').get_text().strip()\n",
    "            print('--- Profile title is: ', title)\n",
    "            writer.writerow({headers[0]:name, headers[1]:location, headers[2]:title, headers[3]:linkedin_URL})\n",
    "            print('\\n')\n",
    "        except:\n",
    "            pass\n",
    "\n",
    "print('Mission Completed!')"
   ]
  }
 ],
 "metadata": {
  "kernelspec": {
   "display_name": "Python 3",
   "language": "python",
   "name": "python3"
  },
  "language_info": {
   "codemirror_mode": {
    "name": "ipython",
    "version": 3
   },
   "file_extension": ".py",
   "mimetype": "text/x-python",
   "name": "python",
   "nbconvert_exporter": "python",
   "pygments_lexer": "ipython3",
   "version": "3.11.1"
  },
  "orig_nbformat": 4,
  "vscode": {
   "interpreter": {
    "hash": "fc6045b06d6c891d701e454e811273ec26c125388e09430210488944ec7c000a"
   }
  }
 },
 "nbformat": 4,
 "nbformat_minor": 2
}
